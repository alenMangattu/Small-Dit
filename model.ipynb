{
 "cells": [
  {
   "cell_type": "code",
   "execution_count": null,
   "metadata": {
    "vscode": {
     "languageId": "plaintext"
    }
   },
   "outputs": [],
   "source": [
    "from dataclasses import dataclass\n",
    "import torch\n",
    "import torch.nn as nn\n",
    "from torch.nn import functional as F\n",
    "import math\n",
    "import time\n",
    "torch.set_float32_matmul_precision('high')"
   ]
  },
  {
   "cell_type": "code",
   "execution_count": null,
   "metadata": {
    "vscode": {
     "languageId": "plaintext"
    }
   },
   "outputs": [],
   "source": [
    "from dataclasses import dataclass\n",
    "\n",
    "@dataclass\n",
    "class Config:\n",
    "    batch_size: int = 100\n",
    "    learning_rate: float = 0.001\n",
    "    epochs: int = 100\n",
    "    n_embeddings: int = 100\n",
    "    n_heads: int = 10\n",
    "    n_layers: int = 10\n",
    "    n_vocab: int = 10000\n",
    "    n_ctx: int = 1024\n",
    "    n_embd: int = 1024\n",
    "    n_head: int = 10\n",
    "    n_layer: int = 10\n",
    "    n_vocab: int = 10000"
   ]
  }
 ],
 "metadata": {
  "language_info": {
   "name": "python"
  }
 },
 "nbformat": 4,
 "nbformat_minor": 2
}
